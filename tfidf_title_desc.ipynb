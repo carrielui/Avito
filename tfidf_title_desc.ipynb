{
 "cells": [
  {
   "cell_type": "code",
   "execution_count": 1,
   "metadata": {},
   "outputs": [],
   "source": [
    "import numpy as np # linear algebra\n",
    "import pandas as pd # data processing, CSV file I/O (e.g. pd.read_csv)\n",
    "import os\n",
    "import gc\n",
    "\n",
    "# Tf-Idf\n",
    "from sklearn.feature_extraction.text import CountVectorizer, TfidfVectorizer\n",
    "from nltk.corpus import stopwords \n",
    "\n",
    "from nltk.stem.snowball import SnowballStemmer\n",
    "import pickle\n",
    "import re\n",
    "import string"
   ]
  },
  {
   "cell_type": "code",
   "execution_count": 2,
   "metadata": {},
   "outputs": [],
   "source": [
    "#All Files\n",
    "\n",
    "DATA_DIR= '/Volumes/G-DRIVE mobile SSD R-Series/Avito/avito_data/'\n",
    "#DATA_DIR = '/home/ubuntu/.kaggle/competitions/avito-demand-prediction/'\n",
    "\n",
    "TRAIN_DATA = DATA_DIR + 'train.csv'\n",
    "TEST_DATA = DATA_DIR + 'test.csv'\n",
    "EMOJI_FILE = '/Volumes/G-DRIVE mobile SSD R-Series/Avito/avito_data/emojifile.p'"
   ]
  },
  {
   "cell_type": "code",
   "execution_count": 3,
   "metadata": {},
   "outputs": [],
   "source": [
    "train = pd.read_csv(TRAIN_DATA, usecols=['title','description'])\n",
    "test = pd.read_csv(TEST_DATA,usecols=['title','description'])\n",
    "\n",
    "train['title'] = train['title'].astype('str')\n",
    "train['description'] = train['description'].astype('str')"
   ]
  },
  {
   "cell_type": "code",
   "execution_count": 4,
   "metadata": {},
   "outputs": [],
   "source": [
    "f = open(EMOJI_FILE,'rb')  \n",
    "emoji = pickle.load(f)  \n",
    "del f \n",
    "gc.collect()\n",
    "\n",
    "stemmer = SnowballStemmer(\"russian\") \n",
    "regex = re.compile('[%s]' % re.escape(string.punctuation + ''.join(emoji)))\n",
    "\n",
    "def stemming_tokenizer(str_input):\n",
    "    #words = re.sub(r\"[^A-Za-z0-9\\-]\", \" \", str_input).lower().split()\n",
    "    words = regex.sub('', str_input).lower().split()\n",
    "    #words = str_input.lower().split()\n",
    "    words = [stemmer.stem(word) for word in words]\n",
    "    return words"
   ]
  },
  {
   "cell_type": "code",
   "execution_count": 5,
   "metadata": {},
   "outputs": [],
   "source": [
    "count_vectorizer_title = CountVectorizer(stop_words=stopwords.words('russian'), tokenizer=stemming_tokenizer,\n",
    "                                         lowercase=True,min_df=25)\n",
    "\n",
    "title_counts = count_vectorizer_title.fit_transform(train['title'].append(test['title']))\n",
    "train_title_counts = title_counts[:len(train)]\n",
    "test_title_counts = title_counts[len(train):]\n",
    "\n",
    "pickle.dump(train_title_counts,open('train_title_new1.p','wb'))\n",
    "pickle.dump(test_title_counts,open('test_title_new1.p','wb'))\n",
    "\n",
    "\n",
    "count_vectorizer_desc = TfidfVectorizer(stop_words=stopwords.words('russian'), tokenizer=stemming_tokenizer,\n",
    "                                        lowercase=True, ngram_range=(1, 2),\n",
    "                                        max_features=15000)\n",
    "desc_counts = count_vectorizer_desc.fit_transform(train['description'].append(test['description']))\n",
    "train_desc_counts = desc_counts[:len(train)]\n",
    "test_desc_counts = desc_counts[len(train):]\n",
    "\n",
    "pickle.dump(train_desc_counts,open('train_desc_new1.p','wb'))\n",
    "pickle.dump(test_desc_counts,open('test_desc_new1.p','wb'))\n",
    "pickle.dump(count_vectorizer_desc.get_feature_names(),open('desc_feature_names_new1.p','wb')) \n",
    "pickle.dump(count_vectorizer_title.get_feature_names(),open('title_feature_names_new1.p','wb'))\n"
   ]
  },
  {
   "cell_type": "code",
   "execution_count": 6,
   "metadata": {},
   "outputs": [
    {
     "data": {
      "text/plain": [
       "((1503424, 15000), (508438, 15000), (1503424, 13480), (508438, 13480))"
      ]
     },
     "execution_count": 6,
     "metadata": {},
     "output_type": "execute_result"
    }
   ],
   "source": [
    "train_desc_counts.shape, test_desc_counts.shape, train_title_counts.shape,test_title_counts.shape"
   ]
  },
  {
   "cell_type": "code",
   "execution_count": null,
   "metadata": {},
   "outputs": [],
   "source": []
  },
  {
   "cell_type": "code",
   "execution_count": null,
   "metadata": {},
   "outputs": [],
   "source": []
  }
 ],
 "metadata": {
  "kernelspec": {
   "display_name": "Python [conda env:ComputerVision]",
   "language": "python",
   "name": "conda-env-ComputerVision-py"
  },
  "language_info": {
   "codemirror_mode": {
    "name": "ipython",
    "version": 3
   },
   "file_extension": ".py",
   "mimetype": "text/x-python",
   "name": "python",
   "nbconvert_exporter": "python",
   "pygments_lexer": "ipython3",
   "version": "3.6.5"
  }
 },
 "nbformat": 4,
 "nbformat_minor": 2
}
